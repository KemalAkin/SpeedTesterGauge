{
 "cells": [
  {
   "cell_type": "code",
   "execution_count": 11,
   "metadata": {},
   "outputs": [
    {
     "data": {
      "text/plain": [
       "'\\nSpeedtester using speedtest-cli\\n@author: Kemal\\n'"
      ]
     },
     "execution_count": 11,
     "metadata": {},
     "output_type": "execute_result"
    }
   ],
   "source": [
    "# -*- coding: utf-8 -*-\n",
    "\"\"\"\n",
    "#==================================#\n",
    "#===== Speedtester with Gauge =====#\n",
    "#==================================#\n",
    "@author: Kemal\n",
    "\"\"\"\n",
    "import speedtest\n",
    "from prettytable import PrettyTable\n",
    "import pandas as pd\n",
    "import plotly.graph_objects as go\n",
    "\n",
    "# Tweak some IPython settings for convenience\n",
    "from IPython.core.interactiveshell import InteractiveShell\n",
    "InteractiveShell.ast_node_interactivity = \"all\"\n",
    "\n",
    "from IPython.display import Image\n"
   ]
  },
  {
   "cell_type": "code",
   "execution_count": 3,
   "metadata": {},
   "outputs": [],
   "source": [
    "#%% Create speedtest object\n",
    "test = speedtest.Speedtest()"
   ]
  },
  {
   "cell_type": "code",
   "execution_count": 5,
   "metadata": {},
   "outputs": [
    {
     "name": "stdout",
     "output_type": "stream",
     "text": [
      "<class 'dict'>\n"
     ]
    }
   ],
   "source": [
    "#%% List of servers in dict\n",
    "servers = test.get_servers() \n",
    "print(type(servers))"
   ]
  },
  {
   "cell_type": "code",
   "execution_count": 6,
   "metadata": {},
   "outputs": [
    {
     "data": {
      "text/html": [
       "<div>\n",
       "<style scoped>\n",
       "    .dataframe tbody tr th:only-of-type {\n",
       "        vertical-align: middle;\n",
       "    }\n",
       "\n",
       "    .dataframe tbody tr th {\n",
       "        vertical-align: top;\n",
       "    }\n",
       "\n",
       "    .dataframe thead th {\n",
       "        text-align: right;\n",
       "    }\n",
       "</style>\n",
       "<table border=\"1\" class=\"dataframe\">\n",
       "  <thead>\n",
       "    <tr style=\"text-align: right;\">\n",
       "      <th></th>\n",
       "      <th>url</th>\n",
       "      <th>lat</th>\n",
       "      <th>lon</th>\n",
       "      <th>name</th>\n",
       "      <th>country</th>\n",
       "      <th>cc</th>\n",
       "      <th>sponsor</th>\n",
       "      <th>id</th>\n",
       "      <th>host</th>\n",
       "      <th>d</th>\n",
       "    </tr>\n",
       "  </thead>\n",
       "  <tbody>\n",
       "    <tr>\n",
       "      <th>0</th>\n",
       "      <td>http://speedtest.rcs-rds.ro:8080/speedtest/upl...</td>\n",
       "      <td>44.4167</td>\n",
       "      <td>26.1000</td>\n",
       "      <td>Bucharest</td>\n",
       "      <td>Romania</td>\n",
       "      <td>RO</td>\n",
       "      <td>RCS &amp; RDS</td>\n",
       "      <td>11494</td>\n",
       "      <td>speedtest.rcs-rds.ro:8080</td>\n",
       "      <td>442.138654</td>\n",
       "    </tr>\n",
       "    <tr>\n",
       "      <th>1</th>\n",
       "      <td>http://speed.vodafone.ro:8080/speedtest/upload...</td>\n",
       "      <td>44.4167</td>\n",
       "      <td>26.1000</td>\n",
       "      <td>Bucharest</td>\n",
       "      <td>Romania</td>\n",
       "      <td>RO</td>\n",
       "      <td>Vodafone Romania Mobile</td>\n",
       "      <td>14137</td>\n",
       "      <td>speed.vodafone.ro:8080</td>\n",
       "      <td>442.138654</td>\n",
       "    </tr>\n",
       "    <tr>\n",
       "      <th>2</th>\n",
       "      <td>http://speedtest.gtstelecom.ro:8080/speedtest/...</td>\n",
       "      <td>44.4167</td>\n",
       "      <td>26.1000</td>\n",
       "      <td>Bucharest</td>\n",
       "      <td>Romania</td>\n",
       "      <td>RO</td>\n",
       "      <td>GTS Telecom</td>\n",
       "      <td>29707</td>\n",
       "      <td>speedtest.gtstelecom.ro:8080</td>\n",
       "      <td>442.138654</td>\n",
       "    </tr>\n",
       "    <tr>\n",
       "      <th>3</th>\n",
       "      <td>http://sp1.dotrotelecom.ro:8080/speedtest/uplo...</td>\n",
       "      <td>44.4167</td>\n",
       "      <td>26.1000</td>\n",
       "      <td>Bucharest</td>\n",
       "      <td>Romania</td>\n",
       "      <td>RO</td>\n",
       "      <td>DOTRO Telecom</td>\n",
       "      <td>7609</td>\n",
       "      <td>sp1.dotrotelecom.ro:8080</td>\n",
       "      <td>442.138654</td>\n",
       "    </tr>\n",
       "    <tr>\n",
       "      <th>4</th>\n",
       "      <td>https://speed.hosterion.net:8080/speedtest/upl...</td>\n",
       "      <td>44.4167</td>\n",
       "      <td>26.1000</td>\n",
       "      <td>Bucharest</td>\n",
       "      <td>Romania</td>\n",
       "      <td>RO</td>\n",
       "      <td>HOSTERION SRL</td>\n",
       "      <td>46454</td>\n",
       "      <td>speed.hosterion.net:8080</td>\n",
       "      <td>442.138654</td>\n",
       "    </tr>\n",
       "    <tr>\n",
       "      <th>0</th>\n",
       "      <td>http://speedtest.rcs-rds.ro:8080/speedtest/upl...</td>\n",
       "      <td>44.4167</td>\n",
       "      <td>26.1000</td>\n",
       "      <td>Bucharest</td>\n",
       "      <td>Romania</td>\n",
       "      <td>RO</td>\n",
       "      <td>RCS &amp; RDS</td>\n",
       "      <td>11494</td>\n",
       "      <td>speedtest.rcs-rds.ro:8080</td>\n",
       "      <td>442.138654</td>\n",
       "    </tr>\n",
       "    <tr>\n",
       "      <th>1</th>\n",
       "      <td>http://speed.vodafone.ro:8080/speedtest/upload...</td>\n",
       "      <td>44.4167</td>\n",
       "      <td>26.1000</td>\n",
       "      <td>Bucharest</td>\n",
       "      <td>Romania</td>\n",
       "      <td>RO</td>\n",
       "      <td>Vodafone Romania Mobile</td>\n",
       "      <td>14137</td>\n",
       "      <td>speed.vodafone.ro:8080</td>\n",
       "      <td>442.138654</td>\n",
       "    </tr>\n",
       "    <tr>\n",
       "      <th>2</th>\n",
       "      <td>http://speedtest.gtstelecom.ro:8080/speedtest/...</td>\n",
       "      <td>44.4167</td>\n",
       "      <td>26.1000</td>\n",
       "      <td>Bucharest</td>\n",
       "      <td>Romania</td>\n",
       "      <td>RO</td>\n",
       "      <td>GTS Telecom</td>\n",
       "      <td>29707</td>\n",
       "      <td>speedtest.gtstelecom.ro:8080</td>\n",
       "      <td>442.138654</td>\n",
       "    </tr>\n",
       "    <tr>\n",
       "      <th>3</th>\n",
       "      <td>http://sp1.dotrotelecom.ro:8080/speedtest/uplo...</td>\n",
       "      <td>44.4167</td>\n",
       "      <td>26.1000</td>\n",
       "      <td>Bucharest</td>\n",
       "      <td>Romania</td>\n",
       "      <td>RO</td>\n",
       "      <td>DOTRO Telecom</td>\n",
       "      <td>7609</td>\n",
       "      <td>sp1.dotrotelecom.ro:8080</td>\n",
       "      <td>442.138654</td>\n",
       "    </tr>\n",
       "    <tr>\n",
       "      <th>4</th>\n",
       "      <td>https://speed.hosterion.net:8080/speedtest/upl...</td>\n",
       "      <td>44.4167</td>\n",
       "      <td>26.1000</td>\n",
       "      <td>Bucharest</td>\n",
       "      <td>Romania</td>\n",
       "      <td>RO</td>\n",
       "      <td>HOSTERION SRL</td>\n",
       "      <td>46454</td>\n",
       "      <td>speed.hosterion.net:8080</td>\n",
       "      <td>442.138654</td>\n",
       "    </tr>\n",
       "    <tr>\n",
       "      <th>0</th>\n",
       "      <td>http://speedtestnet-b-fix.vodafone-network.ro:...</td>\n",
       "      <td>44.4268</td>\n",
       "      <td>26.1025</td>\n",
       "      <td>Bucharest</td>\n",
       "      <td>Romania</td>\n",
       "      <td>RO</td>\n",
       "      <td>Vodafone Romania Fixed</td>\n",
       "      <td>15004</td>\n",
       "      <td>speedtestnet-b-fix.vodafone-network.ro:8080</td>\n",
       "      <td>442.971897</td>\n",
       "    </tr>\n",
       "    <tr>\n",
       "      <th>0</th>\n",
       "      <td>http://speedtest.thezone.bg:8080/speedtest/upl...</td>\n",
       "      <td>43.6231</td>\n",
       "      <td>25.3539</td>\n",
       "      <td>Svishtov</td>\n",
       "      <td>Bulgaria</td>\n",
       "      <td>BG</td>\n",
       "      <td>TheZone Ltd.</td>\n",
       "      <td>5388</td>\n",
       "      <td>speedtest.thezone.bg:8080</td>\n",
       "      <td>413.078974</td>\n",
       "    </tr>\n",
       "    <tr>\n",
       "      <th>0</th>\n",
       "      <td>http://speedtest.nu-ip.ro:8080/speedtest/uploa...</td>\n",
       "      <td>45.1019</td>\n",
       "      <td>24.3719</td>\n",
       "      <td>Ramnicu Valcea</td>\n",
       "      <td>Romania</td>\n",
       "      <td>RO</td>\n",
       "      <td>Nu-Ip.Ro</td>\n",
       "      <td>8387</td>\n",
       "      <td>speedtest.nu-ip.ro:8080</td>\n",
       "      <td>585.564727</td>\n",
       "    </tr>\n",
       "    <tr>\n",
       "      <th>0</th>\n",
       "      <td>http://sprint-bg.net:8080/speedtest/upload.php</td>\n",
       "      <td>43.4167</td>\n",
       "      <td>24.6167</td>\n",
       "      <td>Pleven</td>\n",
       "      <td>Bulgaria</td>\n",
       "      <td>BG</td>\n",
       "      <td>Sprint Ltd.</td>\n",
       "      <td>4488</td>\n",
       "      <td>sprint-bg.net:8080</td>\n",
       "      <td>445.172775</td>\n",
       "    </tr>\n",
       "    <tr>\n",
       "      <th>0</th>\n",
       "      <td>http://speedtest.telecoms.bg:8080/speedtest/up...</td>\n",
       "      <td>43.2167</td>\n",
       "      <td>27.9167</td>\n",
       "      <td>Varna</td>\n",
       "      <td>Bulgaria</td>\n",
       "      <td>BG</td>\n",
       "      <td>Telecoms Ltd.</td>\n",
       "      <td>8197</td>\n",
       "      <td>speedtest.telecoms.bg:8080</td>\n",
       "      <td>256.522460</td>\n",
       "    </tr>\n",
       "  </tbody>\n",
       "</table>\n",
       "</div>"
      ],
      "text/plain": [
       "                                                 url      lat      lon  \\\n",
       "0  http://speedtest.rcs-rds.ro:8080/speedtest/upl...  44.4167  26.1000   \n",
       "1  http://speed.vodafone.ro:8080/speedtest/upload...  44.4167  26.1000   \n",
       "2  http://speedtest.gtstelecom.ro:8080/speedtest/...  44.4167  26.1000   \n",
       "3  http://sp1.dotrotelecom.ro:8080/speedtest/uplo...  44.4167  26.1000   \n",
       "4  https://speed.hosterion.net:8080/speedtest/upl...  44.4167  26.1000   \n",
       "0  http://speedtest.rcs-rds.ro:8080/speedtest/upl...  44.4167  26.1000   \n",
       "1  http://speed.vodafone.ro:8080/speedtest/upload...  44.4167  26.1000   \n",
       "2  http://speedtest.gtstelecom.ro:8080/speedtest/...  44.4167  26.1000   \n",
       "3  http://sp1.dotrotelecom.ro:8080/speedtest/uplo...  44.4167  26.1000   \n",
       "4  https://speed.hosterion.net:8080/speedtest/upl...  44.4167  26.1000   \n",
       "0  http://speedtestnet-b-fix.vodafone-network.ro:...  44.4268  26.1025   \n",
       "0  http://speedtest.thezone.bg:8080/speedtest/upl...  43.6231  25.3539   \n",
       "0  http://speedtest.nu-ip.ro:8080/speedtest/uploa...  45.1019  24.3719   \n",
       "0     http://sprint-bg.net:8080/speedtest/upload.php  43.4167  24.6167   \n",
       "0  http://speedtest.telecoms.bg:8080/speedtest/up...  43.2167  27.9167   \n",
       "\n",
       "             name   country  cc                  sponsor     id  \\\n",
       "0       Bucharest   Romania  RO                RCS & RDS  11494   \n",
       "1       Bucharest   Romania  RO  Vodafone Romania Mobile  14137   \n",
       "2       Bucharest   Romania  RO              GTS Telecom  29707   \n",
       "3       Bucharest   Romania  RO            DOTRO Telecom   7609   \n",
       "4       Bucharest   Romania  RO            HOSTERION SRL  46454   \n",
       "0       Bucharest   Romania  RO                RCS & RDS  11494   \n",
       "1       Bucharest   Romania  RO  Vodafone Romania Mobile  14137   \n",
       "2       Bucharest   Romania  RO              GTS Telecom  29707   \n",
       "3       Bucharest   Romania  RO            DOTRO Telecom   7609   \n",
       "4       Bucharest   Romania  RO            HOSTERION SRL  46454   \n",
       "0       Bucharest   Romania  RO   Vodafone Romania Fixed  15004   \n",
       "0        Svishtov  Bulgaria  BG             TheZone Ltd.   5388   \n",
       "0  Ramnicu Valcea   Romania  RO                 Nu-Ip.Ro   8387   \n",
       "0          Pleven  Bulgaria  BG              Sprint Ltd.   4488   \n",
       "0           Varna  Bulgaria  BG            Telecoms Ltd.   8197   \n",
       "\n",
       "                                          host           d  \n",
       "0                    speedtest.rcs-rds.ro:8080  442.138654  \n",
       "1                       speed.vodafone.ro:8080  442.138654  \n",
       "2                 speedtest.gtstelecom.ro:8080  442.138654  \n",
       "3                     sp1.dotrotelecom.ro:8080  442.138654  \n",
       "4                     speed.hosterion.net:8080  442.138654  \n",
       "0                    speedtest.rcs-rds.ro:8080  442.138654  \n",
       "1                       speed.vodafone.ro:8080  442.138654  \n",
       "2                 speedtest.gtstelecom.ro:8080  442.138654  \n",
       "3                     sp1.dotrotelecom.ro:8080  442.138654  \n",
       "4                     speed.hosterion.net:8080  442.138654  \n",
       "0  speedtestnet-b-fix.vodafone-network.ro:8080  442.971897  \n",
       "0                    speedtest.thezone.bg:8080  413.078974  \n",
       "0                      speedtest.nu-ip.ro:8080  585.564727  \n",
       "0                           sprint-bg.net:8080  445.172775  \n",
       "0                   speedtest.telecoms.bg:8080  256.522460  "
      ]
     },
     "execution_count": 6,
     "metadata": {},
     "output_type": "execute_result"
    }
   ],
   "source": [
    "#%% Store servers in a DF\n",
    "# type(servers) = dict\n",
    "# 'dict_keys' object is not subscriptable, convert it to list\n",
    "serverKeys = list(servers.keys())\n",
    "\n",
    "# create first element of the dataframe, then append using server keys\n",
    "df = pd.json_normalize(servers,record_path=[serverKeys[0]])\n",
    "\n",
    "for key in serverKeys:\n",
    "    df = df.append(pd.json_normalize(servers,record_path=[key]))\n",
    "    \n",
    "df"
   ]
  },
  {
   "cell_type": "code",
   "execution_count": 7,
   "metadata": {},
   "outputs": [
    {
     "name": "stdout",
     "output_type": "stream",
     "text": [
      "Choosing best server..\n",
      "Properties:\n",
      "{'url': 'http://speed.vodafone.ro:8080/speedtest/upload.php', 'lat': '44.4167', 'lon': '26.1000', 'name': 'Bucharest', 'country': 'Romania', 'cc': 'RO', 'sponsor': 'Vodafone Romania Mobile', 'id': '14137', 'host': 'speed.vodafone.ro:8080', 'd': 442.1386539649538, 'latency': 37.726}\n",
      "-------------\n",
      "Host: speed.vodafone.ro:8080 located in Romania\n",
      "Performing Download Test...\n",
      "Performing Upload Test..\n",
      "Performing Ping Test..\n",
      "+-----------------+---------------+-----------+\n",
      "| Download (Mbps) | Upload (Mbps) | Ping (ms) |\n",
      "+-----------------+---------------+-----------+\n",
      "|      44.87      |      4.65     |   37.73   |\n",
      "+-----------------+---------------+-----------+\n"
     ]
    }
   ],
   "source": [
    "#%% Perform the test using the best server\n",
    "print(\"Choosing best server..\")\n",
    "best = test.get_best_server()\n",
    "print('Properties:')\n",
    "print(best)\n",
    "print('-------------')\n",
    "print(f\"Host: {best['host']} located in {best['country']}\")\n",
    "\n",
    "print(\"Performing Download Test...\")\n",
    "down_result = test.download()\n",
    "print(\"Performing Upload Test..\")\n",
    "up_result = test.upload()\n",
    "print(\"Performing Ping Test..\")\n",
    "ping_result = test.results.ping\n",
    "\n",
    "#%% Print out the results using PrettyTable\n",
    "tab = PrettyTable()\n",
    "tab.field_names = [\"Download (Mbps)\",\"Upload (Mbps)\", \"Ping (ms)\"]\n",
    "tab.add_row([f\"{down_result/(1024*1024):.2f}\", f\"{up_result/(1024*1024):.2f}\", f\"{ping_result:.2f}\"]) #to convert Mbps divide by (1024^2)\n",
    "\n",
    "print(tab)"
   ]
  },
  {
   "cell_type": "code",
   "execution_count": 8,
   "metadata": {},
   "outputs": [
    {
     "data": {
      "text/html": [
       "<div>\n",
       "<style scoped>\n",
       "    .dataframe tbody tr th:only-of-type {\n",
       "        vertical-align: middle;\n",
       "    }\n",
       "\n",
       "    .dataframe tbody tr th {\n",
       "        vertical-align: top;\n",
       "    }\n",
       "\n",
       "    .dataframe thead th {\n",
       "        text-align: right;\n",
       "    }\n",
       "</style>\n",
       "<table border=\"1\" class=\"dataframe\">\n",
       "  <thead>\n",
       "    <tr style=\"text-align: right;\">\n",
       "      <th></th>\n",
       "      <th>Download (Mbps)</th>\n",
       "      <th>Upload (Mbps)</th>\n",
       "      <th>Ping (ms)</th>\n",
       "    </tr>\n",
       "  </thead>\n",
       "  <tbody>\n",
       "    <tr>\n",
       "      <th>0</th>\n",
       "      <td>44.87</td>\n",
       "      <td>4.65</td>\n",
       "      <td>37.73</td>\n",
       "    </tr>\n",
       "  </tbody>\n",
       "</table>\n",
       "</div>"
      ],
      "text/plain": [
       "   Download (Mbps)  Upload (Mbps)  Ping (ms)\n",
       "0            44.87           4.65      37.73"
      ]
     },
     "execution_count": 8,
     "metadata": {},
     "output_type": "execute_result"
    }
   ],
   "source": [
    "#%% Print results as pandas DF\n",
    "speed_data={'Download (Mbps)':[round(down_result/(1024*1024),2)],\n",
    "            'Upload (Mbps)':[round(up_result/(1024*1024),2)],\n",
    "            'Ping (ms)':[round(ping_result,2)]}\n",
    "\n",
    "finalDF=pd.DataFrame(speed_data)\n",
    "finalDF"
   ]
  },
  {
   "cell_type": "code",
   "execution_count": 10,
   "metadata": {},
   "outputs": [
    {
     "data": {
      "application/vnd.plotly.v1+json": {
       "config": {
        "plotlyServerURL": "https://plot.ly"
       },
       "data": [
        {
         "delta": {
          "reference": 50
         },
         "domain": {
          "x": [
           0,
           1
          ],
          "y": [
           0,
           1
          ]
         },
         "gauge": {
          "axis": {
           "range": [
            null,
            100
           ],
           "tickcolor": "darkblue",
           "tickfont": {
            "family": "sans-serif",
            "size": 20
           },
           "tickwidth": 1
          },
          "bar": {
           "color": "#4c5a58",
           "line": {
            "color": "black",
            "width": 1
           }
          },
          "bordercolor": "gray",
          "borderwidth": 2,
          "shape": "angular",
          "steps": [
           {
            "color": "#ffb961",
            "range": [
             0,
             20
            ]
           },
           {
            "color": "#f3826f",
            "range": [
             20,
             40
            ]
           },
           {
            "color": "#c05c7e",
            "range": [
             40,
             60
            ]
           },
           {
            "color": "#722d61",
            "range": [
             60,
             80
            ]
           },
           {
            "color": "#2d3561",
            "range": [
             80,
             100
            ]
           }
          ],
          "threshold": {
           "line": {
            "color": "crimson",
            "width": 4
           },
           "thickness": 0.75,
           "value": 50
          }
         },
         "mode": "gauge+number+delta",
         "name": "Speed Test Gauge",
         "title": {
          "align": "center",
          "font": {
           "family": "serif",
           "size": 32
          },
          "text": "Download Speed (Mbps)"
         },
         "type": "indicator",
         "value": 44.86938655181447
        }
       ],
       "layout": {
        "paper_bgcolor": "#f5f0b8",
        "template": {
         "data": {
          "bar": [
           {
            "error_x": {
             "color": "#2a3f5f"
            },
            "error_y": {
             "color": "#2a3f5f"
            },
            "marker": {
             "line": {
              "color": "#E5ECF6",
              "width": 0.5
             },
             "pattern": {
              "fillmode": "overlay",
              "size": 10,
              "solidity": 0.2
             }
            },
            "type": "bar"
           }
          ],
          "barpolar": [
           {
            "marker": {
             "line": {
              "color": "#E5ECF6",
              "width": 0.5
             },
             "pattern": {
              "fillmode": "overlay",
              "size": 10,
              "solidity": 0.2
             }
            },
            "type": "barpolar"
           }
          ],
          "carpet": [
           {
            "aaxis": {
             "endlinecolor": "#2a3f5f",
             "gridcolor": "white",
             "linecolor": "white",
             "minorgridcolor": "white",
             "startlinecolor": "#2a3f5f"
            },
            "baxis": {
             "endlinecolor": "#2a3f5f",
             "gridcolor": "white",
             "linecolor": "white",
             "minorgridcolor": "white",
             "startlinecolor": "#2a3f5f"
            },
            "type": "carpet"
           }
          ],
          "choropleth": [
           {
            "colorbar": {
             "outlinewidth": 0,
             "ticks": ""
            },
            "type": "choropleth"
           }
          ],
          "contour": [
           {
            "colorbar": {
             "outlinewidth": 0,
             "ticks": ""
            },
            "colorscale": [
             [
              0,
              "#0d0887"
             ],
             [
              0.1111111111111111,
              "#46039f"
             ],
             [
              0.2222222222222222,
              "#7201a8"
             ],
             [
              0.3333333333333333,
              "#9c179e"
             ],
             [
              0.4444444444444444,
              "#bd3786"
             ],
             [
              0.5555555555555556,
              "#d8576b"
             ],
             [
              0.6666666666666666,
              "#ed7953"
             ],
             [
              0.7777777777777778,
              "#fb9f3a"
             ],
             [
              0.8888888888888888,
              "#fdca26"
             ],
             [
              1,
              "#f0f921"
             ]
            ],
            "type": "contour"
           }
          ],
          "contourcarpet": [
           {
            "colorbar": {
             "outlinewidth": 0,
             "ticks": ""
            },
            "type": "contourcarpet"
           }
          ],
          "heatmap": [
           {
            "colorbar": {
             "outlinewidth": 0,
             "ticks": ""
            },
            "colorscale": [
             [
              0,
              "#0d0887"
             ],
             [
              0.1111111111111111,
              "#46039f"
             ],
             [
              0.2222222222222222,
              "#7201a8"
             ],
             [
              0.3333333333333333,
              "#9c179e"
             ],
             [
              0.4444444444444444,
              "#bd3786"
             ],
             [
              0.5555555555555556,
              "#d8576b"
             ],
             [
              0.6666666666666666,
              "#ed7953"
             ],
             [
              0.7777777777777778,
              "#fb9f3a"
             ],
             [
              0.8888888888888888,
              "#fdca26"
             ],
             [
              1,
              "#f0f921"
             ]
            ],
            "type": "heatmap"
           }
          ],
          "heatmapgl": [
           {
            "colorbar": {
             "outlinewidth": 0,
             "ticks": ""
            },
            "colorscale": [
             [
              0,
              "#0d0887"
             ],
             [
              0.1111111111111111,
              "#46039f"
             ],
             [
              0.2222222222222222,
              "#7201a8"
             ],
             [
              0.3333333333333333,
              "#9c179e"
             ],
             [
              0.4444444444444444,
              "#bd3786"
             ],
             [
              0.5555555555555556,
              "#d8576b"
             ],
             [
              0.6666666666666666,
              "#ed7953"
             ],
             [
              0.7777777777777778,
              "#fb9f3a"
             ],
             [
              0.8888888888888888,
              "#fdca26"
             ],
             [
              1,
              "#f0f921"
             ]
            ],
            "type": "heatmapgl"
           }
          ],
          "histogram": [
           {
            "marker": {
             "pattern": {
              "fillmode": "overlay",
              "size": 10,
              "solidity": 0.2
             }
            },
            "type": "histogram"
           }
          ],
          "histogram2d": [
           {
            "colorbar": {
             "outlinewidth": 0,
             "ticks": ""
            },
            "colorscale": [
             [
              0,
              "#0d0887"
             ],
             [
              0.1111111111111111,
              "#46039f"
             ],
             [
              0.2222222222222222,
              "#7201a8"
             ],
             [
              0.3333333333333333,
              "#9c179e"
             ],
             [
              0.4444444444444444,
              "#bd3786"
             ],
             [
              0.5555555555555556,
              "#d8576b"
             ],
             [
              0.6666666666666666,
              "#ed7953"
             ],
             [
              0.7777777777777778,
              "#fb9f3a"
             ],
             [
              0.8888888888888888,
              "#fdca26"
             ],
             [
              1,
              "#f0f921"
             ]
            ],
            "type": "histogram2d"
           }
          ],
          "histogram2dcontour": [
           {
            "colorbar": {
             "outlinewidth": 0,
             "ticks": ""
            },
            "colorscale": [
             [
              0,
              "#0d0887"
             ],
             [
              0.1111111111111111,
              "#46039f"
             ],
             [
              0.2222222222222222,
              "#7201a8"
             ],
             [
              0.3333333333333333,
              "#9c179e"
             ],
             [
              0.4444444444444444,
              "#bd3786"
             ],
             [
              0.5555555555555556,
              "#d8576b"
             ],
             [
              0.6666666666666666,
              "#ed7953"
             ],
             [
              0.7777777777777778,
              "#fb9f3a"
             ],
             [
              0.8888888888888888,
              "#fdca26"
             ],
             [
              1,
              "#f0f921"
             ]
            ],
            "type": "histogram2dcontour"
           }
          ],
          "mesh3d": [
           {
            "colorbar": {
             "outlinewidth": 0,
             "ticks": ""
            },
            "type": "mesh3d"
           }
          ],
          "parcoords": [
           {
            "line": {
             "colorbar": {
              "outlinewidth": 0,
              "ticks": ""
             }
            },
            "type": "parcoords"
           }
          ],
          "pie": [
           {
            "automargin": true,
            "type": "pie"
           }
          ],
          "scatter": [
           {
            "marker": {
             "colorbar": {
              "outlinewidth": 0,
              "ticks": ""
             }
            },
            "type": "scatter"
           }
          ],
          "scatter3d": [
           {
            "line": {
             "colorbar": {
              "outlinewidth": 0,
              "ticks": ""
             }
            },
            "marker": {
             "colorbar": {
              "outlinewidth": 0,
              "ticks": ""
             }
            },
            "type": "scatter3d"
           }
          ],
          "scattercarpet": [
           {
            "marker": {
             "colorbar": {
              "outlinewidth": 0,
              "ticks": ""
             }
            },
            "type": "scattercarpet"
           }
          ],
          "scattergeo": [
           {
            "marker": {
             "colorbar": {
              "outlinewidth": 0,
              "ticks": ""
             }
            },
            "type": "scattergeo"
           }
          ],
          "scattergl": [
           {
            "marker": {
             "colorbar": {
              "outlinewidth": 0,
              "ticks": ""
             }
            },
            "type": "scattergl"
           }
          ],
          "scattermapbox": [
           {
            "marker": {
             "colorbar": {
              "outlinewidth": 0,
              "ticks": ""
             }
            },
            "type": "scattermapbox"
           }
          ],
          "scatterpolar": [
           {
            "marker": {
             "colorbar": {
              "outlinewidth": 0,
              "ticks": ""
             }
            },
            "type": "scatterpolar"
           }
          ],
          "scatterpolargl": [
           {
            "marker": {
             "colorbar": {
              "outlinewidth": 0,
              "ticks": ""
             }
            },
            "type": "scatterpolargl"
           }
          ],
          "scatterternary": [
           {
            "marker": {
             "colorbar": {
              "outlinewidth": 0,
              "ticks": ""
             }
            },
            "type": "scatterternary"
           }
          ],
          "surface": [
           {
            "colorbar": {
             "outlinewidth": 0,
             "ticks": ""
            },
            "colorscale": [
             [
              0,
              "#0d0887"
             ],
             [
              0.1111111111111111,
              "#46039f"
             ],
             [
              0.2222222222222222,
              "#7201a8"
             ],
             [
              0.3333333333333333,
              "#9c179e"
             ],
             [
              0.4444444444444444,
              "#bd3786"
             ],
             [
              0.5555555555555556,
              "#d8576b"
             ],
             [
              0.6666666666666666,
              "#ed7953"
             ],
             [
              0.7777777777777778,
              "#fb9f3a"
             ],
             [
              0.8888888888888888,
              "#fdca26"
             ],
             [
              1,
              "#f0f921"
             ]
            ],
            "type": "surface"
           }
          ],
          "table": [
           {
            "cells": {
             "fill": {
              "color": "#EBF0F8"
             },
             "line": {
              "color": "white"
             }
            },
            "header": {
             "fill": {
              "color": "#C8D4E3"
             },
             "line": {
              "color": "white"
             }
            },
            "type": "table"
           }
          ]
         },
         "layout": {
          "annotationdefaults": {
           "arrowcolor": "#2a3f5f",
           "arrowhead": 0,
           "arrowwidth": 1
          },
          "autotypenumbers": "strict",
          "coloraxis": {
           "colorbar": {
            "outlinewidth": 0,
            "ticks": ""
           }
          },
          "colorscale": {
           "diverging": [
            [
             0,
             "#8e0152"
            ],
            [
             0.1,
             "#c51b7d"
            ],
            [
             0.2,
             "#de77ae"
            ],
            [
             0.3,
             "#f1b6da"
            ],
            [
             0.4,
             "#fde0ef"
            ],
            [
             0.5,
             "#f7f7f7"
            ],
            [
             0.6,
             "#e6f5d0"
            ],
            [
             0.7,
             "#b8e186"
            ],
            [
             0.8,
             "#7fbc41"
            ],
            [
             0.9,
             "#4d9221"
            ],
            [
             1,
             "#276419"
            ]
           ],
           "sequential": [
            [
             0,
             "#0d0887"
            ],
            [
             0.1111111111111111,
             "#46039f"
            ],
            [
             0.2222222222222222,
             "#7201a8"
            ],
            [
             0.3333333333333333,
             "#9c179e"
            ],
            [
             0.4444444444444444,
             "#bd3786"
            ],
            [
             0.5555555555555556,
             "#d8576b"
            ],
            [
             0.6666666666666666,
             "#ed7953"
            ],
            [
             0.7777777777777778,
             "#fb9f3a"
            ],
            [
             0.8888888888888888,
             "#fdca26"
            ],
            [
             1,
             "#f0f921"
            ]
           ],
           "sequentialminus": [
            [
             0,
             "#0d0887"
            ],
            [
             0.1111111111111111,
             "#46039f"
            ],
            [
             0.2222222222222222,
             "#7201a8"
            ],
            [
             0.3333333333333333,
             "#9c179e"
            ],
            [
             0.4444444444444444,
             "#bd3786"
            ],
            [
             0.5555555555555556,
             "#d8576b"
            ],
            [
             0.6666666666666666,
             "#ed7953"
            ],
            [
             0.7777777777777778,
             "#fb9f3a"
            ],
            [
             0.8888888888888888,
             "#fdca26"
            ],
            [
             1,
             "#f0f921"
            ]
           ]
          },
          "colorway": [
           "#636efa",
           "#EF553B",
           "#00cc96",
           "#ab63fa",
           "#FFA15A",
           "#19d3f3",
           "#FF6692",
           "#B6E880",
           "#FF97FF",
           "#FECB52"
          ],
          "font": {
           "color": "#2a3f5f"
          },
          "geo": {
           "bgcolor": "white",
           "lakecolor": "white",
           "landcolor": "#E5ECF6",
           "showlakes": true,
           "showland": true,
           "subunitcolor": "white"
          },
          "hoverlabel": {
           "align": "left"
          },
          "hovermode": "closest",
          "mapbox": {
           "style": "light"
          },
          "paper_bgcolor": "white",
          "plot_bgcolor": "#E5ECF6",
          "polar": {
           "angularaxis": {
            "gridcolor": "white",
            "linecolor": "white",
            "ticks": ""
           },
           "bgcolor": "#E5ECF6",
           "radialaxis": {
            "gridcolor": "white",
            "linecolor": "white",
            "ticks": ""
           }
          },
          "scene": {
           "xaxis": {
            "backgroundcolor": "#E5ECF6",
            "gridcolor": "white",
            "gridwidth": 2,
            "linecolor": "white",
            "showbackground": true,
            "ticks": "",
            "zerolinecolor": "white"
           },
           "yaxis": {
            "backgroundcolor": "#E5ECF6",
            "gridcolor": "white",
            "gridwidth": 2,
            "linecolor": "white",
            "showbackground": true,
            "ticks": "",
            "zerolinecolor": "white"
           },
           "zaxis": {
            "backgroundcolor": "#E5ECF6",
            "gridcolor": "white",
            "gridwidth": 2,
            "linecolor": "white",
            "showbackground": true,
            "ticks": "",
            "zerolinecolor": "white"
           }
          },
          "shapedefaults": {
           "line": {
            "color": "#2a3f5f"
           }
          },
          "ternary": {
           "aaxis": {
            "gridcolor": "white",
            "linecolor": "white",
            "ticks": ""
           },
           "baxis": {
            "gridcolor": "white",
            "linecolor": "white",
            "ticks": ""
           },
           "bgcolor": "#E5ECF6",
           "caxis": {
            "gridcolor": "white",
            "linecolor": "white",
            "ticks": ""
           }
          },
          "title": {
           "x": 0.05
          },
          "xaxis": {
           "automargin": true,
           "gridcolor": "white",
           "linecolor": "white",
           "ticks": "",
           "title": {
            "standoff": 15
           },
           "zerolinecolor": "white",
           "zerolinewidth": 2
          },
          "yaxis": {
           "automargin": true,
           "gridcolor": "white",
           "linecolor": "white",
           "ticks": "",
           "title": {
            "standoff": 15
           },
           "zerolinecolor": "white",
           "zerolinewidth": 2
          }
         }
        }
       }
      }
     },
     "metadata": {},
     "output_type": "display_data"
    },
    {
     "data": {
      "application/vnd.plotly.v1+json": {
       "config": {
        "plotlyServerURL": "https://plot.ly"
       },
       "data": [
        {
         "delta": {
          "reference": 50
         },
         "domain": {
          "x": [
           0,
           1
          ],
          "y": [
           0,
           1
          ]
         },
         "gauge": {
          "axis": {
           "range": [
            null,
            100
           ],
           "tickcolor": "darkblue",
           "tickfont": {
            "family": "sans-serif",
            "size": 20
           },
           "tickwidth": 1
          },
          "bar": {
           "color": "#4c5a58",
           "line": {
            "color": "black",
            "width": 1
           }
          },
          "bordercolor": "gray",
          "borderwidth": 2,
          "shape": "angular",
          "steps": [
           {
            "color": "#ffb961",
            "range": [
             0,
             20
            ]
           },
           {
            "color": "#f3826f",
            "range": [
             20,
             40
            ]
           },
           {
            "color": "#c05c7e",
            "range": [
             40,
             60
            ]
           },
           {
            "color": "#722d61",
            "range": [
             60,
             80
            ]
           },
           {
            "color": "#2d3561",
            "range": [
             80,
             100
            ]
           }
          ],
          "threshold": {
           "line": {
            "color": "crimson",
            "width": 4
           },
           "thickness": 0.75,
           "value": 50
          }
         },
         "mode": "gauge+number+delta",
         "name": "Speed Test Gauge",
         "title": {
          "align": "center",
          "font": {
           "family": "serif",
           "size": 32
          },
          "text": "Download Speed (Mbps)"
         },
         "type": "indicator",
         "value": 44.86938655181447
        }
       ],
       "layout": {
        "paper_bgcolor": "#f5f0b8",
        "template": {
         "data": {
          "bar": [
           {
            "error_x": {
             "color": "#2a3f5f"
            },
            "error_y": {
             "color": "#2a3f5f"
            },
            "marker": {
             "line": {
              "color": "#E5ECF6",
              "width": 0.5
             },
             "pattern": {
              "fillmode": "overlay",
              "size": 10,
              "solidity": 0.2
             }
            },
            "type": "bar"
           }
          ],
          "barpolar": [
           {
            "marker": {
             "line": {
              "color": "#E5ECF6",
              "width": 0.5
             },
             "pattern": {
              "fillmode": "overlay",
              "size": 10,
              "solidity": 0.2
             }
            },
            "type": "barpolar"
           }
          ],
          "carpet": [
           {
            "aaxis": {
             "endlinecolor": "#2a3f5f",
             "gridcolor": "white",
             "linecolor": "white",
             "minorgridcolor": "white",
             "startlinecolor": "#2a3f5f"
            },
            "baxis": {
             "endlinecolor": "#2a3f5f",
             "gridcolor": "white",
             "linecolor": "white",
             "minorgridcolor": "white",
             "startlinecolor": "#2a3f5f"
            },
            "type": "carpet"
           }
          ],
          "choropleth": [
           {
            "colorbar": {
             "outlinewidth": 0,
             "ticks": ""
            },
            "type": "choropleth"
           }
          ],
          "contour": [
           {
            "colorbar": {
             "outlinewidth": 0,
             "ticks": ""
            },
            "colorscale": [
             [
              0,
              "#0d0887"
             ],
             [
              0.1111111111111111,
              "#46039f"
             ],
             [
              0.2222222222222222,
              "#7201a8"
             ],
             [
              0.3333333333333333,
              "#9c179e"
             ],
             [
              0.4444444444444444,
              "#bd3786"
             ],
             [
              0.5555555555555556,
              "#d8576b"
             ],
             [
              0.6666666666666666,
              "#ed7953"
             ],
             [
              0.7777777777777778,
              "#fb9f3a"
             ],
             [
              0.8888888888888888,
              "#fdca26"
             ],
             [
              1,
              "#f0f921"
             ]
            ],
            "type": "contour"
           }
          ],
          "contourcarpet": [
           {
            "colorbar": {
             "outlinewidth": 0,
             "ticks": ""
            },
            "type": "contourcarpet"
           }
          ],
          "heatmap": [
           {
            "colorbar": {
             "outlinewidth": 0,
             "ticks": ""
            },
            "colorscale": [
             [
              0,
              "#0d0887"
             ],
             [
              0.1111111111111111,
              "#46039f"
             ],
             [
              0.2222222222222222,
              "#7201a8"
             ],
             [
              0.3333333333333333,
              "#9c179e"
             ],
             [
              0.4444444444444444,
              "#bd3786"
             ],
             [
              0.5555555555555556,
              "#d8576b"
             ],
             [
              0.6666666666666666,
              "#ed7953"
             ],
             [
              0.7777777777777778,
              "#fb9f3a"
             ],
             [
              0.8888888888888888,
              "#fdca26"
             ],
             [
              1,
              "#f0f921"
             ]
            ],
            "type": "heatmap"
           }
          ],
          "heatmapgl": [
           {
            "colorbar": {
             "outlinewidth": 0,
             "ticks": ""
            },
            "colorscale": [
             [
              0,
              "#0d0887"
             ],
             [
              0.1111111111111111,
              "#46039f"
             ],
             [
              0.2222222222222222,
              "#7201a8"
             ],
             [
              0.3333333333333333,
              "#9c179e"
             ],
             [
              0.4444444444444444,
              "#bd3786"
             ],
             [
              0.5555555555555556,
              "#d8576b"
             ],
             [
              0.6666666666666666,
              "#ed7953"
             ],
             [
              0.7777777777777778,
              "#fb9f3a"
             ],
             [
              0.8888888888888888,
              "#fdca26"
             ],
             [
              1,
              "#f0f921"
             ]
            ],
            "type": "heatmapgl"
           }
          ],
          "histogram": [
           {
            "marker": {
             "pattern": {
              "fillmode": "overlay",
              "size": 10,
              "solidity": 0.2
             }
            },
            "type": "histogram"
           }
          ],
          "histogram2d": [
           {
            "colorbar": {
             "outlinewidth": 0,
             "ticks": ""
            },
            "colorscale": [
             [
              0,
              "#0d0887"
             ],
             [
              0.1111111111111111,
              "#46039f"
             ],
             [
              0.2222222222222222,
              "#7201a8"
             ],
             [
              0.3333333333333333,
              "#9c179e"
             ],
             [
              0.4444444444444444,
              "#bd3786"
             ],
             [
              0.5555555555555556,
              "#d8576b"
             ],
             [
              0.6666666666666666,
              "#ed7953"
             ],
             [
              0.7777777777777778,
              "#fb9f3a"
             ],
             [
              0.8888888888888888,
              "#fdca26"
             ],
             [
              1,
              "#f0f921"
             ]
            ],
            "type": "histogram2d"
           }
          ],
          "histogram2dcontour": [
           {
            "colorbar": {
             "outlinewidth": 0,
             "ticks": ""
            },
            "colorscale": [
             [
              0,
              "#0d0887"
             ],
             [
              0.1111111111111111,
              "#46039f"
             ],
             [
              0.2222222222222222,
              "#7201a8"
             ],
             [
              0.3333333333333333,
              "#9c179e"
             ],
             [
              0.4444444444444444,
              "#bd3786"
             ],
             [
              0.5555555555555556,
              "#d8576b"
             ],
             [
              0.6666666666666666,
              "#ed7953"
             ],
             [
              0.7777777777777778,
              "#fb9f3a"
             ],
             [
              0.8888888888888888,
              "#fdca26"
             ],
             [
              1,
              "#f0f921"
             ]
            ],
            "type": "histogram2dcontour"
           }
          ],
          "mesh3d": [
           {
            "colorbar": {
             "outlinewidth": 0,
             "ticks": ""
            },
            "type": "mesh3d"
           }
          ],
          "parcoords": [
           {
            "line": {
             "colorbar": {
              "outlinewidth": 0,
              "ticks": ""
             }
            },
            "type": "parcoords"
           }
          ],
          "pie": [
           {
            "automargin": true,
            "type": "pie"
           }
          ],
          "scatter": [
           {
            "marker": {
             "colorbar": {
              "outlinewidth": 0,
              "ticks": ""
             }
            },
            "type": "scatter"
           }
          ],
          "scatter3d": [
           {
            "line": {
             "colorbar": {
              "outlinewidth": 0,
              "ticks": ""
             }
            },
            "marker": {
             "colorbar": {
              "outlinewidth": 0,
              "ticks": ""
             }
            },
            "type": "scatter3d"
           }
          ],
          "scattercarpet": [
           {
            "marker": {
             "colorbar": {
              "outlinewidth": 0,
              "ticks": ""
             }
            },
            "type": "scattercarpet"
           }
          ],
          "scattergeo": [
           {
            "marker": {
             "colorbar": {
              "outlinewidth": 0,
              "ticks": ""
             }
            },
            "type": "scattergeo"
           }
          ],
          "scattergl": [
           {
            "marker": {
             "colorbar": {
              "outlinewidth": 0,
              "ticks": ""
             }
            },
            "type": "scattergl"
           }
          ],
          "scattermapbox": [
           {
            "marker": {
             "colorbar": {
              "outlinewidth": 0,
              "ticks": ""
             }
            },
            "type": "scattermapbox"
           }
          ],
          "scatterpolar": [
           {
            "marker": {
             "colorbar": {
              "outlinewidth": 0,
              "ticks": ""
             }
            },
            "type": "scatterpolar"
           }
          ],
          "scatterpolargl": [
           {
            "marker": {
             "colorbar": {
              "outlinewidth": 0,
              "ticks": ""
             }
            },
            "type": "scatterpolargl"
           }
          ],
          "scatterternary": [
           {
            "marker": {
             "colorbar": {
              "outlinewidth": 0,
              "ticks": ""
             }
            },
            "type": "scatterternary"
           }
          ],
          "surface": [
           {
            "colorbar": {
             "outlinewidth": 0,
             "ticks": ""
            },
            "colorscale": [
             [
              0,
              "#0d0887"
             ],
             [
              0.1111111111111111,
              "#46039f"
             ],
             [
              0.2222222222222222,
              "#7201a8"
             ],
             [
              0.3333333333333333,
              "#9c179e"
             ],
             [
              0.4444444444444444,
              "#bd3786"
             ],
             [
              0.5555555555555556,
              "#d8576b"
             ],
             [
              0.6666666666666666,
              "#ed7953"
             ],
             [
              0.7777777777777778,
              "#fb9f3a"
             ],
             [
              0.8888888888888888,
              "#fdca26"
             ],
             [
              1,
              "#f0f921"
             ]
            ],
            "type": "surface"
           }
          ],
          "table": [
           {
            "cells": {
             "fill": {
              "color": "#EBF0F8"
             },
             "line": {
              "color": "white"
             }
            },
            "header": {
             "fill": {
              "color": "#C8D4E3"
             },
             "line": {
              "color": "white"
             }
            },
            "type": "table"
           }
          ]
         },
         "layout": {
          "annotationdefaults": {
           "arrowcolor": "#2a3f5f",
           "arrowhead": 0,
           "arrowwidth": 1
          },
          "autotypenumbers": "strict",
          "coloraxis": {
           "colorbar": {
            "outlinewidth": 0,
            "ticks": ""
           }
          },
          "colorscale": {
           "diverging": [
            [
             0,
             "#8e0152"
            ],
            [
             0.1,
             "#c51b7d"
            ],
            [
             0.2,
             "#de77ae"
            ],
            [
             0.3,
             "#f1b6da"
            ],
            [
             0.4,
             "#fde0ef"
            ],
            [
             0.5,
             "#f7f7f7"
            ],
            [
             0.6,
             "#e6f5d0"
            ],
            [
             0.7,
             "#b8e186"
            ],
            [
             0.8,
             "#7fbc41"
            ],
            [
             0.9,
             "#4d9221"
            ],
            [
             1,
             "#276419"
            ]
           ],
           "sequential": [
            [
             0,
             "#0d0887"
            ],
            [
             0.1111111111111111,
             "#46039f"
            ],
            [
             0.2222222222222222,
             "#7201a8"
            ],
            [
             0.3333333333333333,
             "#9c179e"
            ],
            [
             0.4444444444444444,
             "#bd3786"
            ],
            [
             0.5555555555555556,
             "#d8576b"
            ],
            [
             0.6666666666666666,
             "#ed7953"
            ],
            [
             0.7777777777777778,
             "#fb9f3a"
            ],
            [
             0.8888888888888888,
             "#fdca26"
            ],
            [
             1,
             "#f0f921"
            ]
           ],
           "sequentialminus": [
            [
             0,
             "#0d0887"
            ],
            [
             0.1111111111111111,
             "#46039f"
            ],
            [
             0.2222222222222222,
             "#7201a8"
            ],
            [
             0.3333333333333333,
             "#9c179e"
            ],
            [
             0.4444444444444444,
             "#bd3786"
            ],
            [
             0.5555555555555556,
             "#d8576b"
            ],
            [
             0.6666666666666666,
             "#ed7953"
            ],
            [
             0.7777777777777778,
             "#fb9f3a"
            ],
            [
             0.8888888888888888,
             "#fdca26"
            ],
            [
             1,
             "#f0f921"
            ]
           ]
          },
          "colorway": [
           "#636efa",
           "#EF553B",
           "#00cc96",
           "#ab63fa",
           "#FFA15A",
           "#19d3f3",
           "#FF6692",
           "#B6E880",
           "#FF97FF",
           "#FECB52"
          ],
          "font": {
           "color": "#2a3f5f"
          },
          "geo": {
           "bgcolor": "white",
           "lakecolor": "white",
           "landcolor": "#E5ECF6",
           "showlakes": true,
           "showland": true,
           "subunitcolor": "white"
          },
          "hoverlabel": {
           "align": "left"
          },
          "hovermode": "closest",
          "mapbox": {
           "style": "light"
          },
          "paper_bgcolor": "white",
          "plot_bgcolor": "#E5ECF6",
          "polar": {
           "angularaxis": {
            "gridcolor": "white",
            "linecolor": "white",
            "ticks": ""
           },
           "bgcolor": "#E5ECF6",
           "radialaxis": {
            "gridcolor": "white",
            "linecolor": "white",
            "ticks": ""
           }
          },
          "scene": {
           "xaxis": {
            "backgroundcolor": "#E5ECF6",
            "gridcolor": "white",
            "gridwidth": 2,
            "linecolor": "white",
            "showbackground": true,
            "ticks": "",
            "zerolinecolor": "white"
           },
           "yaxis": {
            "backgroundcolor": "#E5ECF6",
            "gridcolor": "white",
            "gridwidth": 2,
            "linecolor": "white",
            "showbackground": true,
            "ticks": "",
            "zerolinecolor": "white"
           },
           "zaxis": {
            "backgroundcolor": "#E5ECF6",
            "gridcolor": "white",
            "gridwidth": 2,
            "linecolor": "white",
            "showbackground": true,
            "ticks": "",
            "zerolinecolor": "white"
           }
          },
          "shapedefaults": {
           "line": {
            "color": "#2a3f5f"
           }
          },
          "ternary": {
           "aaxis": {
            "gridcolor": "white",
            "linecolor": "white",
            "ticks": ""
           },
           "baxis": {
            "gridcolor": "white",
            "linecolor": "white",
            "ticks": ""
           },
           "bgcolor": "#E5ECF6",
           "caxis": {
            "gridcolor": "white",
            "linecolor": "white",
            "ticks": ""
           }
          },
          "title": {
           "x": 0.05
          },
          "xaxis": {
           "automargin": true,
           "gridcolor": "white",
           "linecolor": "white",
           "ticks": "",
           "title": {
            "standoff": 15
           },
           "zerolinecolor": "white",
           "zerolinewidth": 2
          },
          "yaxis": {
           "automargin": true,
           "gridcolor": "white",
           "linecolor": "white",
           "ticks": "",
           "title": {
            "standoff": 15
           },
           "zerolinecolor": "white",
           "zerolinewidth": 2
          }
         }
        }
       }
      }
     },
     "metadata": {},
     "output_type": "display_data"
    }
   ],
   "source": [
    "#%% Visualize the results using plotly gauge chart\n",
    "\n",
    "# Plotly documentation for gauge chart: https://plotly.com/python/reference/indicator/\n",
    "# Color palette: https://color-hex.org/color-palettes/192\n",
    "\n",
    "fig = go.Figure(go.Indicator(\n",
    "    name = \"Speed Test Gauge\",\n",
    "    domain = {'x': [0, 1], 'y': [0, 1]},\n",
    "    value = down_result/(1024*1024),\n",
    "    mode = \"gauge+number+delta\",\n",
    "    title = {'text': \"Download Speed (Mbps)\", 'font':{'family':\"serif\", 'size':32}, 'align':\"center\"},\n",
    "    delta = {'reference': 50},  #I set the reference according to my ISP\n",
    "    gauge = {'axis': {'range': [None, 100],'tickcolor':'darkblue','tickfont':{'family':\"sans-serif\", 'size':20}, 'tickwidth':1},\n",
    "             'bar': {'color':\"#4c5a58\",'line':{'color':'black', 'width':1}},\n",
    "             'borderwidth': 2,\n",
    "             'bordercolor': \"gray\",\n",
    "             'shape':'angular', #( \"angular\" | \"bullet\" )\n",
    "             'steps' : [\n",
    "                 {'range': [0, 20], 'color': \"#ffb961\"},\n",
    "                 {'range': [20, 40], 'color': \"#f3826f\"},\n",
    "                 {'range': [40, 60], 'color': \"#c05c7e\"},\n",
    "                 {'range': [60, 80], 'color': \"#722d61\"},\n",
    "                 {'range': [80, 100], 'color': \"#2d3561\"}],\n",
    "             'threshold' : {'line': {'color': \"crimson\", 'width': 4}, 'thickness': 0.75, 'value': 50}}))\n",
    "\n",
    "fig.update_layout(paper_bgcolor = \"#f5f0b8\")\n",
    "fig.show()\n",
    "\n"
   ]
  },
  {
   "cell_type": "code",
   "execution_count": 12,
   "metadata": {},
   "outputs": [],
   "source": [
    "# The above line should display the plot, if not, save and display in the notebook:\n",
    "fig.write_image(\"result.png\")"
   ]
  },
  {
   "cell_type": "code",
   "execution_count": 13,
   "metadata": {},
   "outputs": [
    {
     "data": {
      "image/png": "[encoded data removed]",
      "text/plain": [
       "<IPython.core.display.Image object>"
      ]
     },
     "execution_count": 13,
     "metadata": {},
     "output_type": "execute_result"
    }
   ],
   "source": [
    "Image(filename='result.png') "
   ]
  },
  {
   "cell_type": "code",
   "execution_count": null,
   "metadata": {},
   "outputs": [],
   "source": []
  }
 ],
 "metadata": {
  "kernelspec": {
   "display_name": "Python 3.9.1 64-bit",
   "language": "python",
   "name": "python3"
  },
  "language_info": {
   "codemirror_mode": {
    "name": "ipython",
    "version": 3
   },
   "file_extension": ".py",
   "mimetype": "text/x-python",
   "name": "python",
   "nbconvert_exporter": "python",
   "pygments_lexer": "ipython3",
   "version": "3.9.1"
  },
  "orig_nbformat": 4,
  "vscode": {
   "interpreter": {
    "hash": "81794d4967e6c3204c66dcd87b604927b115b27c00565d3d43f05ba2f3a2cb0d"
   }
  }
 },
 "nbformat": 4,
 "nbformat_minor": 2
}
